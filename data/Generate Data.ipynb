{
 "cells": [
  {
   "cell_type": "code",
   "execution_count": 41,
   "metadata": {},
   "outputs": [],
   "source": [
    "import numpy as np\n",
    "\n",
    "x = np.arange(100)  # array with range 0-99\n",
    "x\n",
    "yd = np.random.uniform(-10, 10, size=(100,))\n",
    "yd\n",
    "y = .7 * x + 5 + yd\n",
    "\n"
   ]
  },
  {
   "cell_type": "code",
   "execution_count": 42,
   "metadata": {},
   "outputs": [
    {
     "data": {
      "image/png": "[encoded data removed]",
      "text/plain": [
       "<Figure size 432x288 with 1 Axes>"
      ]
     },
     "metadata": {
      "needs_background": "light"
     },
     "output_type": "display_data"
    }
   ],
   "source": [
    "%matplotlib inline\n",
    "import matplotlib.pyplot as plt\n",
    "\n",
    "plt.scatter(x,yd)\n",
    "plt.show()"
   ]
  },
  {
   "cell_type": "code",
   "execution_count": 43,
   "metadata": {},
   "outputs": [
    {
     "data": {
      "image/png": "[encoded data removed]",
      "text/plain": [
       "<Figure size 432x288 with 1 Axes>"
      ]
     },
     "metadata": {
      "needs_background": "light"
     },
     "output_type": "display_data"
    }
   ],
   "source": [
    "plt.scatter(x,y)\n",
    "plt.show()"
   ]
  },
  {
   "cell_type": "markdown",
   "metadata": {},
   "source": [
    "https://machinelearningmastery.com/generate-test-datasets-python-scikit-learn/"
   ]
  },
  {
   "cell_type": "code",
   "execution_count": 44,
   "metadata": {},
   "outputs": [],
   "source": [
    "from sklearn.datasets.samples_generator import make_blobs\n",
    "\n",
    "X, y = make_blobs(n_samples=100, centers=3, n_features=2)\n",
    "# centers are classes\n",
    "# features are variables and may need to be parsed into individual arrays"
   ]
  },
  {
   "cell_type": "code",
   "execution_count": 48,
   "metadata": {},
   "outputs": [
    {
     "data": {
      "text/plain": [
       "array([[  3.43075296,   6.63227043],\n",
       "       [ -9.59229522,  -0.10285683],\n",
       "       [ -8.56207496,  -1.21605753],\n",
       "       [  5.29948868,  -6.42271447],\n",
       "       [  3.82788262,   6.30867905],\n",
       "       [ -8.93744695,   0.75853385],\n",
       "       [ -9.14219321,   0.508732  ],\n",
       "       [  5.44539176,   5.82066967],\n",
       "       [  5.33900945,  -4.48924549],\n",
       "       [ -9.33787196,   0.27634418],\n",
       "       [ -9.20196465,  -1.45851271],\n",
       "       [  6.93650935,  -4.0945462 ],\n",
       "       [  4.13190048,   5.55372384],\n",
       "       [ -9.09090304,  -0.02614402],\n",
       "       [  4.72963981,  -4.36488796],\n",
       "       [  3.97541473,  -4.74074711],\n",
       "       [  5.9107075 ,  -6.12540809],\n",
       "       [  4.4163627 ,   3.94859458],\n",
       "       [ -8.27846875,   0.73373998],\n",
       "       [  3.89213543,  -4.29485756],\n",
       "       [  3.84399986,   5.99167531],\n",
       "       [  4.90887062,  -5.33891639],\n",
       "       [ -9.96566413,  -1.66330279],\n",
       "       [  4.458545  ,  -4.63822788],\n",
       "       [  3.42467613,   4.4549878 ],\n",
       "       [  4.10392104,  -6.42617099],\n",
       "       [  4.36655421,  -6.40073886],\n",
       "       [  3.95245681,   5.59951524],\n",
       "       [ -9.35660425,  -0.08722494],\n",
       "       [  5.64488038,  -5.558542  ],\n",
       "       [  3.5177008 ,  -6.33216912],\n",
       "       [-10.18160134,  -0.43828391],\n",
       "       [  1.81081224,   4.85055622],\n",
       "       [-10.76533165,   0.97313687],\n",
       "       [ -8.37119106,  -0.84088352],\n",
       "       [  5.22234408,  -5.40946721],\n",
       "       [  5.22572926,  -5.04062382],\n",
       "       [  3.73072338,  -5.39764312],\n",
       "       [  4.21007219,  -5.36663832],\n",
       "       [  2.79494245,   5.59529332],\n",
       "       [ -8.44593456,   0.13685613],\n",
       "       [  4.15235139,   5.84421063],\n",
       "       [ -8.19146575,  -1.41482746],\n",
       "       [  5.55715332,   5.41362964],\n",
       "       [  4.05702977,   4.70361558],\n",
       "       [  4.59019242,   6.56200875],\n",
       "       [ -8.72103413,  -0.89158303],\n",
       "       [  4.32816179,   5.20836438],\n",
       "       [ -8.96082587,   1.4488563 ],\n",
       "       [  5.39454142,  -4.60590414],\n",
       "       [  2.45773764,   3.64376033],\n",
       "       [ -9.62806349,   0.46342224],\n",
       "       [  4.98197814,  -4.79003224],\n",
       "       [ -9.0666941 ,  -1.51621041],\n",
       "       [  0.16699853,   5.19630651],\n",
       "       [  2.96873116,   3.79902106],\n",
       "       [  4.75868492,  -2.89237232],\n",
       "       [ -7.14596136,  -1.91263374],\n",
       "       [  3.44300077,  -3.74001978],\n",
       "       [ -9.16472039,   0.92977488],\n",
       "       [ -6.8975199 ,   2.27880864],\n",
       "       [  1.98113833,   4.74864736],\n",
       "       [ -8.51438878,   1.52256736],\n",
       "       [ -7.38810076,   0.37343527],\n",
       "       [ -8.97897604,   0.38480855],\n",
       "       [ -9.63371797,  -1.00955777],\n",
       "       [  4.61088175,  -6.14444047],\n",
       "       [  3.4558779 ,   3.58813454],\n",
       "       [  5.30878528,  -5.99331951],\n",
       "       [  3.83397141,   5.40356989],\n",
       "       [  3.92449853,  -4.47543182],\n",
       "       [ -8.8119486 ,  -0.58699137],\n",
       "       [  4.93741715,  -4.23099602],\n",
       "       [ -8.81165088,  -1.3370856 ],\n",
       "       [  2.5755409 ,   5.98782748],\n",
       "       [  4.11987736,  -4.84996337],\n",
       "       [  2.66585458,   4.47198741],\n",
       "       [  1.75862539,   3.26495933],\n",
       "       [  2.22156337,   3.56383574],\n",
       "       [-10.3275072 ,  -0.07977467],\n",
       "       [  1.62417379,   4.11869734],\n",
       "       [  3.23711731,   3.35062203],\n",
       "       [  4.03816189,  -4.15959741],\n",
       "       [  5.91407661,  -4.44554801],\n",
       "       [ -8.38659343,  -0.3751669 ],\n",
       "       [ -9.06227788,  -1.44341121],\n",
       "       [  5.11459172,  -8.13146379],\n",
       "       [  4.30603244,  -4.22649517],\n",
       "       [  6.17299477,  -3.45334688],\n",
       "       [  2.10618717,   5.67381727],\n",
       "       [ -9.28544894,  -0.75229848],\n",
       "       [  3.65277753,   5.99295091],\n",
       "       [  2.10134283,   4.2555415 ],\n",
       "       [ -9.91008818,   0.25904946],\n",
       "       [  2.68724609,   5.36408125],\n",
       "       [  5.29774155,  -4.56520391],\n",
       "       [  2.2654348 ,   4.91315955],\n",
       "       [ -9.55832495,  -0.88638422],\n",
       "       [  4.49495077,  -5.57126071],\n",
       "       [  1.19527212,   5.03488196]])"
      ]
     },
     "execution_count": 48,
     "metadata": {},
     "output_type": "execute_result"
    }
   ],
   "source": [
    "X"
   ]
  },
  {
   "cell_type": "code",
   "execution_count": 49,
   "metadata": {},
   "outputs": [
    {
     "data": {
      "text/plain": [
       "array([  3.43075296,  -9.59229522,  -8.56207496,   5.29948868,\n",
       "         3.82788262,  -8.93744695,  -9.14219321,   5.44539176,\n",
       "         5.33900945,  -9.33787196,  -9.20196465,   6.93650935,\n",
       "         4.13190048,  -9.09090304,   4.72963981,   3.97541473,\n",
       "         5.9107075 ,   4.4163627 ,  -8.27846875,   3.89213543,\n",
       "         3.84399986,   4.90887062,  -9.96566413,   4.458545  ,\n",
       "         3.42467613,   4.10392104,   4.36655421,   3.95245681,\n",
       "        -9.35660425,   5.64488038,   3.5177008 , -10.18160134,\n",
       "         1.81081224, -10.76533165,  -8.37119106,   5.22234408,\n",
       "         5.22572926,   3.73072338,   4.21007219,   2.79494245,\n",
       "        -8.44593456,   4.15235139,  -8.19146575,   5.55715332,\n",
       "         4.05702977,   4.59019242,  -8.72103413,   4.32816179,\n",
       "        -8.96082587,   5.39454142,   2.45773764,  -9.62806349,\n",
       "         4.98197814,  -9.0666941 ,   0.16699853,   2.96873116,\n",
       "         4.75868492,  -7.14596136,   3.44300077,  -9.16472039,\n",
       "        -6.8975199 ,   1.98113833,  -8.51438878,  -7.38810076,\n",
       "        -8.97897604,  -9.63371797,   4.61088175,   3.4558779 ,\n",
       "         5.30878528,   3.83397141,   3.92449853,  -8.8119486 ,\n",
       "         4.93741715,  -8.81165088,   2.5755409 ,   4.11987736,\n",
       "         2.66585458,   1.75862539,   2.22156337, -10.3275072 ,\n",
       "         1.62417379,   3.23711731,   4.03816189,   5.91407661,\n",
       "        -8.38659343,  -9.06227788,   5.11459172,   4.30603244,\n",
       "         6.17299477,   2.10618717,  -9.28544894,   3.65277753,\n",
       "         2.10134283,  -9.91008818,   2.68724609,   5.29774155,\n",
       "         2.2654348 ,  -9.55832495,   4.49495077,   1.19527212])"
      ]
     },
     "execution_count": 49,
     "metadata": {},
     "output_type": "execute_result"
    }
   ],
   "source": [
    "X[:,0]"
   ]
  },
  {
   "cell_type": "code",
   "execution_count": 51,
   "metadata": {},
   "outputs": [
    {
     "data": {
      "text/plain": [
       "array([ 6.63227043, -0.10285683, -1.21605753, -6.42271447,  6.30867905,\n",
       "        0.75853385,  0.508732  ,  5.82066967, -4.48924549,  0.27634418,\n",
       "       -1.45851271, -4.0945462 ,  5.55372384, -0.02614402, -4.36488796,\n",
       "       -4.74074711, -6.12540809,  3.94859458,  0.73373998, -4.29485756,\n",
       "        5.99167531, -5.33891639, -1.66330279, -4.63822788,  4.4549878 ,\n",
       "       -6.42617099, -6.40073886,  5.59951524, -0.08722494, -5.558542  ,\n",
       "       -6.33216912, -0.43828391,  4.85055622,  0.97313687, -0.84088352,\n",
       "       -5.40946721, -5.04062382, -5.39764312, -5.36663832,  5.59529332,\n",
       "        0.13685613,  5.84421063, -1.41482746,  5.41362964,  4.70361558,\n",
       "        6.56200875, -0.89158303,  5.20836438,  1.4488563 , -4.60590414,\n",
       "        3.64376033,  0.46342224, -4.79003224, -1.51621041,  5.19630651,\n",
       "        3.79902106, -2.89237232, -1.91263374, -3.74001978,  0.92977488,\n",
       "        2.27880864,  4.74864736,  1.52256736,  0.37343527,  0.38480855,\n",
       "       -1.00955777, -6.14444047,  3.58813454, -5.99331951,  5.40356989,\n",
       "       -4.47543182, -0.58699137, -4.23099602, -1.3370856 ,  5.98782748,\n",
       "       -4.84996337,  4.47198741,  3.26495933,  3.56383574, -0.07977467,\n",
       "        4.11869734,  3.35062203, -4.15959741, -4.44554801, -0.3751669 ,\n",
       "       -1.44341121, -8.13146379, -4.22649517, -3.45334688,  5.67381727,\n",
       "       -0.75229848,  5.99295091,  4.2555415 ,  0.25904946,  5.36408125,\n",
       "       -4.56520391,  4.91315955, -0.88638422, -5.57126071,  5.03488196])"
      ]
     },
     "execution_count": 51,
     "metadata": {},
     "output_type": "execute_result"
    }
   ],
   "source": [
    "X[:,1]"
   ]
  },
  {
   "cell_type": "code",
   "execution_count": 52,
   "metadata": {},
   "outputs": [
    {
     "data": {
      "text/plain": [
       "array([2, 0, 0, 1, 2, 0, 0, 2, 1, 0, 0, 1, 2, 0, 1, 1, 1, 2, 0, 1, 2, 1,\n",
       "       0, 1, 2, 1, 1, 2, 0, 1, 1, 0, 2, 0, 0, 1, 1, 1, 1, 2, 0, 2, 0, 2,\n",
       "       2, 2, 0, 2, 0, 1, 2, 0, 1, 0, 2, 2, 1, 0, 1, 0, 0, 2, 0, 0, 0, 0,\n",
       "       1, 2, 1, 2, 1, 0, 1, 0, 2, 1, 2, 2, 2, 0, 2, 2, 1, 1, 0, 0, 1, 1,\n",
       "       1, 2, 0, 2, 2, 0, 2, 1, 2, 0, 1, 2])"
      ]
     },
     "execution_count": 52,
     "metadata": {},
     "output_type": "execute_result"
    }
   ],
   "source": [
    "y"
   ]
  },
  {
   "cell_type": "code",
   "execution_count": null,
   "metadata": {},
   "outputs": [],
   "source": []
  }
 ],
 "metadata": {
  "kernelspec": {
   "display_name": "Python 3",
   "language": "python",
   "name": "python3"
  },
  "language_info": {
   "codemirror_mode": {
    "name": "ipython",
    "version": 3
   },
   "file_extension": ".py",
   "mimetype": "text/x-python",
   "name": "python",
   "nbconvert_exporter": "python",
   "pygments_lexer": "ipython3",
   "version": "3.7.1"
  }
 },
 "nbformat": 4,
 "nbformat_minor": 2
}
