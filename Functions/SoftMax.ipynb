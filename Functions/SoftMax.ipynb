{
 "cells": [
  {
   "cell_type": "code",
   "execution_count": 1,
   "metadata": {},
   "outputs": [
    {
     "name": "stdout",
     "output_type": "stream",
     "text": [
      "[0.3126362480401561, 0.25724794025203834, 0.17157841078921593, 0.2585374009185897]\n",
      "1.0\n",
      "--------------------\n",
      "[0.31263625 0.25724794 0.17157841 0.2585374 ]\n",
      "1.0\n"
     ]
    }
   ],
   "source": [
    "import numpy as np\n",
    "\n",
    "\n",
    "def soft_max(aVec): \n",
    "    rtn = []\n",
    "    for i in aVec:\n",
    "        rtn.append(np.exp(i) / np.sum(np.exp(aVec)))\n",
    "    return rtn\n",
    "\n",
    "\n",
    "def soft_max2(aVec):\n",
    "    exps = np.exp(aVec)\n",
    "    return exps/sum(exps)\n",
    "\n",
    "v = np.array([.2,.005,-.4,.01])\n",
    "\n",
    "print(soft_max(v))\n",
    "print(sum(soft_max(v)))\n",
    "print('--------------------')\n",
    "print(soft_max2(v))\n",
    "print(sum(soft_max2(v)))\n"
   ]
  },
  {
   "cell_type": "code",
   "execution_count": null,
   "metadata": {},
   "outputs": [],
   "source": []
  }
 ],
 "metadata": {
  "kernelspec": {
   "display_name": "Python 3",
   "language": "python",
   "name": "python3"
  },
  "language_info": {
   "codemirror_mode": {
    "name": "ipython",
    "version": 3
   },
   "file_extension": ".py",
   "mimetype": "text/x-python",
   "name": "python",
   "nbconvert_exporter": "python",
   "pygments_lexer": "ipython3",
   "version": "3.7.1"
  }
 },
 "nbformat": 4,
 "nbformat_minor": 2
}
