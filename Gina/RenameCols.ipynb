{
 "cells": [
  {
   "cell_type": "code",
   "execution_count": 43,
   "metadata": {},
   "outputs": [
    {
     "name": "stdout",
     "output_type": "stream",
     "text": [
      "Empty DataFrame\n",
      "Columns: []\n",
      "Index: []\n",
      "-------------------------------\n",
      "\n",
      "\n",
      "Empty DataFrame\n",
      "Columns: [object_id]\n",
      "Index: []\n"
     ]
    }
   ],
   "source": [
    "import pandas as pd\n",
    "\n",
    "a_file = \"C:\\\\Users\\\\mmcda\\\\Documents\\\\testy.xlsx\"\n",
    "out_file = \"C:\\\\Users\\\\mmcda\\\\Documents\\\\testy_out.xlsx\"\n",
    "\n",
    "my_cols = {'Cola': 'NewCola', 'Colb': 'NewColb'}\n",
    "\n",
    "\n",
    "\n",
    "data = pd.read_excel(a_file, usecols=list(my_cols.keys()))\n",
    "print(data)\n",
    "print(\"-------------------------------\\n\\n\")\n",
    "\n",
    "data = data.rename(columns=my_cols)\n",
    "data.index = data.index + 1\n",
    "# set index to start at 1\n",
    "# name index column\n",
    "data.to_excel(out_file, index_label='object_id')\n",
    "\n",
    "out_data = pd.read_excel(out_file)\n",
    "print(out_data)"
   ]
  },
  {
   "cell_type": "markdown",
   "metadata": {},
   "source": []
  },
  {
   "cell_type": "code",
   "execution_count": 42,
   "metadata": {},
   "outputs": [
    {
     "data": {
      "text/plain": [
       "['NewCola', 'NewColb']"
      ]
     },
     "execution_count": 42,
     "metadata": {},
     "output_type": "execute_result"
    }
   ],
   "source": [
    "x = {'Cola': 'NewCola', 'Colb': 'NewColb'}\n",
    "list(x.values())"
   ]
  },
  {
   "cell_type": "code",
   "execution_count": null,
   "metadata": {},
   "outputs": [],
   "source": []
  }
 ],
 "metadata": {
  "kernelspec": {
   "display_name": "Python 3",
   "language": "python",
   "name": "python3"
  },
  "language_info": {
   "codemirror_mode": {
    "name": "ipython",
    "version": 3
   },
   "file_extension": ".py",
   "mimetype": "text/x-python",
   "name": "python",
   "nbconvert_exporter": "python",
   "pygments_lexer": "ipython3",
   "version": "3.7.0"
  }
 },
 "nbformat": 4,
 "nbformat_minor": 2
}
