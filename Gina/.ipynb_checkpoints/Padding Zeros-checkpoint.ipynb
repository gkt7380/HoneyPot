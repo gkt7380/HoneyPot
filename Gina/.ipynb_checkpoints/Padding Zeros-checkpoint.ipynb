{
 "cells": [
  {
   "cell_type": "code",
   "execution_count": 1,
   "metadata": {},
   "outputs": [],
   "source": [
    "def L_Pad_for_Gina(aInput, nPad = 3):\n",
    "    # take input convert to string, left pad to n length, default 3\n",
    "    outStr = str(aInput).rjust(nPad, '0')\n",
    "    return outStr"
   ]
  },
  {
   "cell_type": "code",
   "execution_count": 2,
   "metadata": {},
   "outputs": [
    {
     "name": "stdout",
     "output_type": "stream",
     "text": [
      "003\n",
      "021\n",
      "2111\n",
      "000\n"
     ]
    }
   ],
   "source": [
    "# print output single digit\n",
    "aNum = 3\n",
    "print(L_Pad_for_Gina(aNum))\n",
    "# print output 2 digits\n",
    "aNum = 21\n",
    "print(L_Pad_for_Gina(aNum))\n",
    "# print output > 3 digits\n",
    "aNum = 2111\n",
    "print(L_Pad_for_Gina(aNum))\n",
    "# print output empty string\n",
    "aBlankStr = ''\n",
    "print(L_Pad_for_Gina(aBlankStr))"
   ]
  },
  {
   "cell_type": "code",
   "execution_count": 3,
   "metadata": {},
   "outputs": [
    {
     "name": "stdout",
     "output_type": "stream",
     "text": [
      "H00003\n"
     ]
    }
   ],
   "source": [
    "# print output single digit, make max len = 5, concat to string 'H'\n",
    "aNum = 3\n",
    "aStr = 'H{0}'.format(L_Pad_for_Gina(aNum, 5))\n",
    "print(aStr)"
   ]
  },
  {
   "cell_type": "code",
   "execution_count": null,
   "metadata": {},
   "outputs": [],
   "source": []
  }
 ],
 "metadata": {
  "kernelspec": {
   "display_name": "Python 3",
   "language": "python",
   "name": "python3"
  },
  "language_info": {
   "codemirror_mode": {
    "name": "ipython",
    "version": 3
   },
   "file_extension": ".py",
   "mimetype": "text/x-python",
   "name": "python",
   "nbconvert_exporter": "python",
   "pygments_lexer": "ipython3",
   "version": "3.7.0"
  }
 },
 "nbformat": 4,
 "nbformat_minor": 2
}
