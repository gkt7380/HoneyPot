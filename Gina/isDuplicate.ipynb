{
 "cells": [
  {
   "cell_type": "code",
   "execution_count": 4,
   "metadata": {},
   "outputs": [],
   "source": [
    "\n",
    "uniqueList = []\n",
    "def isDuplicate(inValue): \n",
    "    if inValue in uniqueList: \n",
    "        return 1 \n",
    "    elif inValue not in uniqueList: \n",
    "        uniqueList.append(inValue) \n",
    "        return 0\n",
    "    else:\n",
    "        return 0"
   ]
  },
  {
   "cell_type": "code",
   "execution_count": 6,
   "metadata": {},
   "outputs": [
    {
     "name": "stdout",
     "output_type": "stream",
     "text": [
      "1\n",
      "['a', 'b']\n",
      "1\n",
      "['a', 'b']\n",
      "1\n",
      "['a', 'b']\n",
      "0\n",
      "['a', 'b', None]\n"
     ]
    }
   ],
   "source": [
    "\n",
    "x = isDuplicate(\"a\")\n",
    "print(x)\n",
    "print(uniqueList)\n",
    "x = isDuplicate(\"a\")\n",
    "print(x)\n",
    "print(uniqueList)\n",
    "x = isDuplicate(\"b\")\n",
    "print(x)\n",
    "print(uniqueList)\n",
    "x = isDuplicate(None)\n",
    "print(x)\n",
    "print(uniqueList)"
   ]
  },
  {
   "cell_type": "code",
   "execution_count": null,
   "metadata": {},
   "outputs": [],
   "source": []
  }
 ],
 "metadata": {
  "kernelspec": {
   "display_name": "Python 3",
   "language": "python",
   "name": "python3"
  },
  "language_info": {
   "codemirror_mode": {
    "name": "ipython",
    "version": 3
   },
   "file_extension": ".py",
   "mimetype": "text/x-python",
   "name": "python",
   "nbconvert_exporter": "python",
   "pygments_lexer": "ipython3",
   "version": "3.7.1"
  }
 },
 "nbformat": 4,
 "nbformat_minor": 2
}
